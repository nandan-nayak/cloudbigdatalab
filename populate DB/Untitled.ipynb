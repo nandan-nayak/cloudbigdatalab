{
 "cells": [
  {
   "cell_type": "code",
   "execution_count": 77,
   "metadata": {},
   "outputs": [],
   "source": [
    "import pandas as pd\n",
    "#import pymssql\n",
    "import pyodbc\n"
   ]
  },
  {
   "cell_type": "code",
   "execution_count": 85,
   "metadata": {},
   "outputs": [],
   "source": [
    "\n",
    "inputfile=pd.read_csv(\"DataSet.csv\");\n",
    "\n",
    "#conn=pymssql.connect(host=r'DESKTOP-0MFRJ4E', user=r'root', password=r'root', database=r'bigdata')\n",
    "\n",
    "\n",
    "conn = pyodbc.connect('Driver={SQL Server};'\n",
    "                      'Server=DESKTOP-0MFRJ4E;'\n",
    "                      'Database=bigdata;'\n",
    "                      'Trusted_Connection=yes;')\n",
    "\n",
    "\n",
    "cur = conn.cursor()\n",
    "\n",
    "def preprocess(columnname,index):\n",
    "    #print(type(inputfile.iloc[index][columnname]))\n",
    "    if list(inputfile.columns).index(columnname)!=0:\n",
    "        if str(inputfile.iloc[index][columnname]).lower() in [\"nan\",\"inf\"]:\n",
    "            return preprocess(columnname,index-1)\n",
    "        else:\n",
    "            return float(inputfile.iloc[index][columnname])\n",
    "    else:\n",
    "        return inputfile.iloc[index][columnname]\n",
    "    "
   ]
  },
  {
   "cell_type": "code",
   "execution_count": 86,
   "metadata": {},
   "outputs": [
    {
     "name": "stdout",
     "output_type": "stream",
     "text": [
      "executed successfully\n"
     ]
    }
   ],
   "source": [
    "for i in range(len(inputfile)):\n",
    "    #print(preprocess(\"Dynamic Power\",i))\n",
    "    cur.execute('insert into product values(?,?,?,?,?,?)',\n",
    "                preprocess(\"Model\",i),\n",
    "                preprocess(\"Delay\",i),\n",
    "                preprocess('Dynamic Power',i),\n",
    "                preprocess('Static Power',i),\n",
    "                preprocess('TotalPower',i),\n",
    "                preprocess('Power-DelayProduct',i))\n",
    "                \n",
    "    \n",
    "#row = cur.fetchone()\n",
    "#print(row[0])\n",
    "    \n",
    "    \n",
    "print(\"executed successfully\")\n",
    "cur.commit();\n"
   ]
  },
  {
   "cell_type": "code",
   "execution_count": 4,
   "metadata": {},
   "outputs": [],
   "source": [
    "cur.close()\n",
    "conn.close()\n",
    "\n"
   ]
  },
  {
   "cell_type": "code",
   "execution_count": 21,
   "metadata": {},
   "outputs": [],
   "source": [
    "x=[10,\"null\"]"
   ]
  },
  {
   "cell_type": "code",
   "execution_count": 22,
   "metadata": {},
   "outputs": [],
   "source": [
    "fun=lambda s:float(s)\n"
   ]
  },
  {
   "cell_type": "code",
   "execution_count": 25,
   "metadata": {},
   "outputs": [
    {
     "ename": "ValueError",
     "evalue": "could not convert string to float: 'null'",
     "output_type": "error",
     "traceback": [
      "\u001b[1;31m---------------------------------------------------------------------------\u001b[0m",
      "\u001b[1;31mValueError\u001b[0m                                Traceback (most recent call last)",
      "\u001b[1;32m<ipython-input-25-8cf3e6187cde>\u001b[0m in \u001b[0;36m<module>\u001b[1;34m\u001b[0m\n\u001b[1;32m----> 1\u001b[1;33m fun(x[1\n\u001b[0m\u001b[0;32m      2\u001b[0m      ])\n",
      "\u001b[1;32m<ipython-input-22-2bb5c26b927f>\u001b[0m in \u001b[0;36m<lambda>\u001b[1;34m(s)\u001b[0m\n\u001b[1;32m----> 1\u001b[1;33m \u001b[0mfun\u001b[0m\u001b[1;33m=\u001b[0m\u001b[1;32mlambda\u001b[0m \u001b[0ms\u001b[0m\u001b[1;33m:\u001b[0m\u001b[0mfloat\u001b[0m\u001b[1;33m(\u001b[0m\u001b[0ms\u001b[0m\u001b[1;33m)\u001b[0m\u001b[1;33m\u001b[0m\u001b[1;33m\u001b[0m\u001b[0m\n\u001b[0m",
      "\u001b[1;31mValueError\u001b[0m: could not convert string to float: 'null'"
     ]
    }
   ],
   "source": [
    "fun(x[1\n",
    "     ])"
   ]
  },
  {
   "cell_type": "code",
   "execution_count": 75,
   "metadata": {},
   "outputs": [
    {
     "name": "stdout",
     "output_type": "stream",
     "text": [
      "False\n",
      "False\n",
      "False\n",
      "False\n",
      "False\n",
      "False\n",
      "False\n",
      "False\n",
      "False\n",
      "False\n",
      "False\n",
      "False\n",
      "False\n",
      "False\n",
      "False\n",
      "False\n",
      "True\n",
      "False\n",
      "False\n",
      "False\n",
      "Model\n"
     ]
    }
   ],
   "source": [
    "for i in range(len(inputfile)):\n",
    "    print(str(float(inputfile.iloc[i][\"Static Power\"])).lower() == 'inf')\n",
    "    \n",
    "print(inputfile.columns[0])"
   ]
  },
  {
   "cell_type": "code",
   "execution_count": 71,
   "metadata": {},
   "outputs": [
    {
     "name": "stdout",
     "output_type": "stream",
     "text": [
      "0\n"
     ]
    }
   ],
   "source": [
    "print(list(inputfile.columns).index(\"Model\"))"
   ]
  },
  {
   "cell_type": "code",
   "execution_count": 37,
   "metadata": {},
   "outputs": [
    {
     "data": {
      "text/plain": [
       "0"
      ]
     },
     "execution_count": 37,
     "metadata": {},
     "output_type": "execute_result"
    }
   ],
   "source": [
    "x.index(10)"
   ]
  },
  {
   "cell_type": "code",
   "execution_count": null,
   "metadata": {},
   "outputs": [],
   "source": []
  }
 ],
 "metadata": {
  "kernelspec": {
   "display_name": "Python 3",
   "language": "python",
   "name": "python3"
  },
  "language_info": {
   "codemirror_mode": {
    "name": "ipython",
    "version": 3
   },
   "file_extension": ".py",
   "mimetype": "text/x-python",
   "name": "python",
   "nbconvert_exporter": "python",
   "pygments_lexer": "ipython3",
   "version": "3.7.3"
  }
 },
 "nbformat": 4,
 "nbformat_minor": 2
}
